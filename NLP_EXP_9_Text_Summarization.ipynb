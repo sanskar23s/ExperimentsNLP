{
  "nbformat": 4,
  "nbformat_minor": 0,
  "metadata": {
    "colab": {
      "provenance": []
    },
    "kernelspec": {
      "name": "python3",
      "display_name": "Python 3"
    },
    "language_info": {
      "name": "python"
    }
  },
  "cells": [
    {
      "cell_type": "code",
      "execution_count": 5,
      "metadata": {
        "colab": {
          "base_uri": "https://localhost:8080/"
        },
        "id": "G8YWimlk-08R",
        "outputId": "b8382be3-41c6-49e3-e27b-f49590e29f49"
      },
      "outputs": [
        {
          "output_type": "stream",
          "name": "stdout",
          "text": [
            "Requirement already satisfied: transformers in /usr/local/lib/python3.10/dist-packages (4.38.2)\n",
            "Requirement already satisfied: filelock in /usr/local/lib/python3.10/dist-packages (from transformers) (3.13.4)\n",
            "Requirement already satisfied: huggingface-hub<1.0,>=0.19.3 in /usr/local/lib/python3.10/dist-packages (from transformers) (0.20.3)\n",
            "Requirement already satisfied: numpy>=1.17 in /usr/local/lib/python3.10/dist-packages (from transformers) (1.25.2)\n",
            "Requirement already satisfied: packaging>=20.0 in /usr/local/lib/python3.10/dist-packages (from transformers) (24.0)\n",
            "Requirement already satisfied: pyyaml>=5.1 in /usr/local/lib/python3.10/dist-packages (from transformers) (6.0.1)\n",
            "Requirement already satisfied: regex!=2019.12.17 in /usr/local/lib/python3.10/dist-packages (from transformers) (2023.12.25)\n",
            "Requirement already satisfied: requests in /usr/local/lib/python3.10/dist-packages (from transformers) (2.31.0)\n",
            "Requirement already satisfied: tokenizers<0.19,>=0.14 in /usr/local/lib/python3.10/dist-packages (from transformers) (0.15.2)\n",
            "Requirement already satisfied: safetensors>=0.4.1 in /usr/local/lib/python3.10/dist-packages (from transformers) (0.4.2)\n",
            "Requirement already satisfied: tqdm>=4.27 in /usr/local/lib/python3.10/dist-packages (from transformers) (4.66.2)\n",
            "Requirement already satisfied: fsspec>=2023.5.0 in /usr/local/lib/python3.10/dist-packages (from huggingface-hub<1.0,>=0.19.3->transformers) (2023.6.0)\n",
            "Requirement already satisfied: typing-extensions>=3.7.4.3 in /usr/local/lib/python3.10/dist-packages (from huggingface-hub<1.0,>=0.19.3->transformers) (4.11.0)\n",
            "Requirement already satisfied: charset-normalizer<4,>=2 in /usr/local/lib/python3.10/dist-packages (from requests->transformers) (3.3.2)\n",
            "Requirement already satisfied: idna<4,>=2.5 in /usr/local/lib/python3.10/dist-packages (from requests->transformers) (3.6)\n",
            "Requirement already satisfied: urllib3<3,>=1.21.1 in /usr/local/lib/python3.10/dist-packages (from requests->transformers) (2.0.7)\n",
            "Requirement already satisfied: certifi>=2017.4.17 in /usr/local/lib/python3.10/dist-packages (from requests->transformers) (2024.2.2)\n"
          ]
        },
        {
          "output_type": "stream",
          "name": "stderr",
          "text": [
            "No model was supplied, defaulted to sshleifer/distilbart-cnn-12-6 and revision a4f8f3e (https://huggingface.co/sshleifer/distilbart-cnn-12-6).\n",
            "Using a pipeline without specifying a model name and revision in production is not recommended.\n"
          ]
        },
        {
          "output_type": "stream",
          "name": "stdout",
          "text": [
            " A young man, lost and weary, stumbled through the doorway of an old clay shop.\n",
            "He'd been searching for weeks, following whispers and legends, to find the fabled Weaver of Dreams.\n",
            "She helped him find a new dream, a dream of resilience born from hardship.\n",
            "She gave him a clay figure, a curious contraption of gears and wings .\n"
          ]
        }
      ],
      "source": [
        "!pip install transformers\n",
        "from transformers import pipeline\n",
        "\n",
        "summarizer = pipeline(\"summarization\")\n",
        "\n",
        "# Summarize a text document\n",
        "text = \"\"\"\n",
        "The old woman sat perched on a stool, her wrinkled hands working a lump of clay\n",
        "with practiced ease. Her tiny shop, tucked away in a forgotten corner of the\n",
        "market, smelled of damp earth and forgotten dreams. Outside, the neon pulse of\n",
        "the city mocked the serenity within.\n",
        "A young man, lost and weary, stumbled through the doorway. Dust motes danced in\n",
        "the sliver of sunlight that pierced the shop's gloom. The woman looked up, her\n",
        "eyes the color of storm clouds.\n",
        "\"Lost, are we?\" she rasped, her voice like dry leaves rustling.\n",
        "The young man, Liam, nodded, speechless. He clutched a worn map, the lines\n",
        "blurring with his sweat. He'd been searching for weeks, following whispers and\n",
        "faded legends, to find the fabled Weaver of Dreams.\n",
        "\"Seeking dreams, perhaps?\" the woman continued, a knowing glint in her eyes.\n",
        "Liam stammered, \"I... I need a new dream. Mine has turned to dust.\"\n",
        "The woman chuckled, a sound like wind chimes in a storm. \"Dreams are fickle\n",
        "things, lad. They shift and change, like the desert sands.\"\n",
        "She gestured to a shelf overflowing with misshapen clay figures – fantastical\n",
        "creatures, winged horses, and luminescent flowers. Each held a strange allure,\n",
        "a promise whispered in the silence.\n",
        "\"These,\" the woman said, \"are fragments of dreams past. But a new dream needs a\n",
        " new telling.\"\n",
        "She led him to a small table, her gnarled hand surprisingly strong.\n",
        "Liam poured out his story, the soul-crushing reality of his failing business,\n",
        "the weight of disappointment that choked his aspirations. As he spoke, the\n",
        "woman listened, her gaze fixed on a pot of bubbling clay.\n",
        "When he finished, a heavy silence settled. Then, the woman spoke, her voice\n",
        "softer now. \"Tell me, lad, what did you dream of before the dust settled?\"\n",
        "Liam closed his eyes, a flicker of warmth chasing away the desolation. He spoke\n",
        "of soaring innovations, of his inventions bringing joy to others. He spoke of a\n",
        "future bright with creation and purpose.\n",
        "The woman remained silent, molding the clay with swift, practiced fingers. It\n",
        "took shape under her touch, a curious contraption of gears and wings, pulsing\n",
        "with an inner light. As Liam watched, a teardrop slipped down his cheek. It\n",
        "wasn't sadness, but a flicker of recognition, a spark reignited.\n",
        "\"This,\" the woman said, handing him the clay figure, \"is the seed of your new\n",
        "dream. Nurture it, lad. Tend its flame, and watch it blossom.\"\n",
        "Liam held the figure, its warmth seeping into his palm. He felt a surge of\n",
        "renewed determination, a vision forming in his mind. It wasn't the same dream,\n",
        "but it was fueled by the embers of the old. It was a dream of resilience, of\n",
        "innovation born from hardship.\n",
        "He thanked the woman, his voice thick with emotion. As he stepped back into the\n",
        "city's chaos, the neon lights seemed less harsh, the throngs of people less\n",
        "indifferent. He carried his new dream, fragile yet potent, a promise whispered\n",
        "in clay. The Weaver of Dreams hadn't given him a dream, she'd helped him find\n",
        "the forgotten one within.\n",
        "\"\"\"\n",
        "\n",
        "summary_text = summarizer(text)\n",
        "\n",
        "print(summary_text[0][\"summary_text\"].replace(\" . \", \".\\n\"))\n"
      ]
    }
  ]
}