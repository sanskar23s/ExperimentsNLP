{
  "nbformat": 4,
  "nbformat_minor": 0,
  "metadata": {
    "colab": {
      "provenance": []
    },
    "kernelspec": {
      "name": "python3",
      "display_name": "Python 3"
    },
    "language_info": {
      "name": "python"
    }
  },
  "cells": [
    {
      "cell_type": "code",
      "source": [
        "import numpy as np\n",
        "from tensorflow.keras.preprocessing.text import Tokenizer\n",
        "from tensorflow.keras.preprocessing.sequence import pad_sequences\n",
        "from tensorflow.keras.models import Sequential\n",
        "from tensorflow.keras.layers import Embedding, LSTM, Dense\n",
        "from tensorflow.keras.utils import to_categorical"
      ],
      "metadata": {
        "id": "6NAAytLCcmat"
      },
      "execution_count": 55,
      "outputs": []
    },
    {
      "cell_type": "code",
      "source": [
        "data = \"\"\"The cat sat on the mat.\n",
        "          It was a lovely sunny day.\n",
        "          Suddenly, the sky turned dark.\"\"\""
      ],
      "metadata": {
        "id": "bbyRU2ZvdXNF"
      },
      "execution_count": 56,
      "outputs": []
    },
    {
      "cell_type": "code",
      "source": [
        "tokenizer = Tokenizer()\n",
        "tokenizer.fit_on_texts([data])\n",
        "vocab_size = len(tokenizer.word_index) + 1"
      ],
      "metadata": {
        "id": "chSm0CJzdlCq"
      },
      "execution_count": 63,
      "outputs": []
    },
    {
      "cell_type": "code",
      "source": [
        "sequences = []\n",
        "for line in data.split('\\n'):\n",
        "    token_list = tokenizer.texts_to_sequences([line])[0]\n",
        "    for i in range(1, len(token_list)):\n",
        "        n_gram_sequence = token_list[:i+1]\n",
        "        sequences.append(n_gram_sequence)"
      ],
      "metadata": {
        "id": "NELhoMXxdm3Q"
      },
      "execution_count": 64,
      "outputs": []
    },
    {
      "cell_type": "code",
      "source": [
        "max_sequence_len = max([len(seq) for seq in sequences])\n",
        "sequences = np.array(pad_sequences(sequences, maxlen=max_sequence_len, padding='pre'))"
      ],
      "metadata": {
        "id": "0D1qkeyOdoUg"
      },
      "execution_count": 65,
      "outputs": []
    },
    {
      "cell_type": "code",
      "source": [
        "X = sequences[:, :-1]\n",
        "y = sequences[:, -1]\n",
        "y = to_categorical(y, num_classes=vocab_size)"
      ],
      "metadata": {
        "id": "KaZW6t7Bdp0b"
      },
      "execution_count": 66,
      "outputs": []
    },
    {
      "cell_type": "code",
      "source": [
        "# Define the RNN model\n",
        "model = Sequential()\n",
        "model.add(Embedding(input_dim=vocab_size, output_dim=10, input_length=max_sequence_len-1))\n",
        "model.add(LSTM(100))\n",
        "model.add(Dense(vocab_size, activation='softmax'))\n",
        "model.compile(loss='categorical_crossentropy', optimizer='adam', metrics=['accuracy'])"
      ],
      "metadata": {
        "id": "RlX0biWAdrk1"
      },
      "execution_count": 67,
      "outputs": []
    },
    {
      "cell_type": "code",
      "source": [
        "model.fit(X, y, epochs=100, verbose=1)"
      ],
      "metadata": {
        "colab": {
          "base_uri": "https://localhost:8080/"
        },
        "id": "blNUuB99dtEm",
        "outputId": "fef6eea4-4164-4a4f-d9d9-33dbd2bb5806"
      },
      "execution_count": 68,
      "outputs": [
        {
          "output_type": "stream",
          "name": "stdout",
          "text": [
            "Epoch 1/100\n",
            "1/1 [==============================] - 3s 3s/step - loss: 2.7734 - accuracy: 0.1429\n",
            "Epoch 2/100\n",
            "1/1 [==============================] - 0s 14ms/step - loss: 2.7710 - accuracy: 0.1429\n",
            "Epoch 3/100\n",
            "1/1 [==============================] - 0s 14ms/step - loss: 2.7685 - accuracy: 0.1429\n",
            "Epoch 4/100\n",
            "1/1 [==============================] - 0s 15ms/step - loss: 2.7660 - accuracy: 0.1429\n",
            "Epoch 5/100\n",
            "1/1 [==============================] - 0s 15ms/step - loss: 2.7634 - accuracy: 0.1429\n",
            "Epoch 6/100\n",
            "1/1 [==============================] - 0s 15ms/step - loss: 2.7608 - accuracy: 0.1429\n",
            "Epoch 7/100\n",
            "1/1 [==============================] - 0s 14ms/step - loss: 2.7579 - accuracy: 0.1429\n",
            "Epoch 8/100\n",
            "1/1 [==============================] - 0s 13ms/step - loss: 2.7549 - accuracy: 0.1429\n",
            "Epoch 9/100\n",
            "1/1 [==============================] - 0s 16ms/step - loss: 2.7517 - accuracy: 0.1429\n",
            "Epoch 10/100\n",
            "1/1 [==============================] - 0s 14ms/step - loss: 2.7482 - accuracy: 0.1429\n",
            "Epoch 11/100\n",
            "1/1 [==============================] - 0s 15ms/step - loss: 2.7445 - accuracy: 0.1429\n",
            "Epoch 12/100\n",
            "1/1 [==============================] - 0s 13ms/step - loss: 2.7405 - accuracy: 0.1429\n",
            "Epoch 13/100\n",
            "1/1 [==============================] - 0s 14ms/step - loss: 2.7361 - accuracy: 0.1429\n",
            "Epoch 14/100\n",
            "1/1 [==============================] - 0s 14ms/step - loss: 2.7314 - accuracy: 0.1429\n",
            "Epoch 15/100\n",
            "1/1 [==============================] - 0s 14ms/step - loss: 2.7263 - accuracy: 0.1429\n",
            "Epoch 16/100\n",
            "1/1 [==============================] - 0s 13ms/step - loss: 2.7207 - accuracy: 0.1429\n",
            "Epoch 17/100\n",
            "1/1 [==============================] - 0s 14ms/step - loss: 2.7146 - accuracy: 0.1429\n",
            "Epoch 18/100\n",
            "1/1 [==============================] - 0s 14ms/step - loss: 2.7080 - accuracy: 0.1429\n",
            "Epoch 19/100\n",
            "1/1 [==============================] - 0s 18ms/step - loss: 2.7007 - accuracy: 0.1429\n",
            "Epoch 20/100\n",
            "1/1 [==============================] - 0s 13ms/step - loss: 2.6928 - accuracy: 0.1429\n",
            "Epoch 21/100\n",
            "1/1 [==============================] - 0s 13ms/step - loss: 2.6843 - accuracy: 0.1429\n",
            "Epoch 22/100\n",
            "1/1 [==============================] - 0s 15ms/step - loss: 2.6750 - accuracy: 0.1429\n",
            "Epoch 23/100\n",
            "1/1 [==============================] - 0s 13ms/step - loss: 2.6651 - accuracy: 0.1429\n",
            "Epoch 24/100\n",
            "1/1 [==============================] - 0s 13ms/step - loss: 2.6544 - accuracy: 0.1429\n",
            "Epoch 25/100\n",
            "1/1 [==============================] - 0s 15ms/step - loss: 2.6432 - accuracy: 0.1429\n",
            "Epoch 26/100\n",
            "1/1 [==============================] - 0s 13ms/step - loss: 2.6316 - accuracy: 0.1429\n",
            "Epoch 27/100\n",
            "1/1 [==============================] - 0s 15ms/step - loss: 2.6198 - accuracy: 0.1429\n",
            "Epoch 28/100\n",
            "1/1 [==============================] - 0s 17ms/step - loss: 2.6082 - accuracy: 0.1429\n",
            "Epoch 29/100\n",
            "1/1 [==============================] - 0s 13ms/step - loss: 2.5973 - accuracy: 0.1429\n",
            "Epoch 30/100\n",
            "1/1 [==============================] - 0s 13ms/step - loss: 2.5877 - accuracy: 0.1429\n",
            "Epoch 31/100\n",
            "1/1 [==============================] - 0s 15ms/step - loss: 2.5798 - accuracy: 0.1429\n",
            "Epoch 32/100\n",
            "1/1 [==============================] - 0s 15ms/step - loss: 2.5731 - accuracy: 0.1429\n",
            "Epoch 33/100\n",
            "1/1 [==============================] - 0s 13ms/step - loss: 2.5668 - accuracy: 0.1429\n",
            "Epoch 34/100\n",
            "1/1 [==============================] - 0s 14ms/step - loss: 2.5595 - accuracy: 0.1429\n",
            "Epoch 35/100\n",
            "1/1 [==============================] - 0s 17ms/step - loss: 2.5505 - accuracy: 0.1429\n",
            "Epoch 36/100\n",
            "1/1 [==============================] - 0s 15ms/step - loss: 2.5400 - accuracy: 0.1429\n",
            "Epoch 37/100\n",
            "1/1 [==============================] - 0s 17ms/step - loss: 2.5286 - accuracy: 0.1429\n",
            "Epoch 38/100\n",
            "1/1 [==============================] - 0s 13ms/step - loss: 2.5171 - accuracy: 0.1429\n",
            "Epoch 39/100\n",
            "1/1 [==============================] - 0s 16ms/step - loss: 2.5060 - accuracy: 0.1429\n",
            "Epoch 40/100\n",
            "1/1 [==============================] - 0s 14ms/step - loss: 2.4956 - accuracy: 0.1429\n",
            "Epoch 41/100\n",
            "1/1 [==============================] - 0s 14ms/step - loss: 2.4858 - accuracy: 0.1429\n",
            "Epoch 42/100\n",
            "1/1 [==============================] - 0s 13ms/step - loss: 2.4763 - accuracy: 0.1429\n",
            "Epoch 43/100\n",
            "1/1 [==============================] - 0s 16ms/step - loss: 2.4667 - accuracy: 0.1429\n",
            "Epoch 44/100\n",
            "1/1 [==============================] - 0s 17ms/step - loss: 2.4568 - accuracy: 0.1429\n",
            "Epoch 45/100\n",
            "1/1 [==============================] - 0s 14ms/step - loss: 2.4462 - accuracy: 0.1429\n",
            "Epoch 46/100\n",
            "1/1 [==============================] - 0s 13ms/step - loss: 2.4348 - accuracy: 0.1429\n",
            "Epoch 47/100\n",
            "1/1 [==============================] - 0s 13ms/step - loss: 2.4226 - accuracy: 0.1429\n",
            "Epoch 48/100\n",
            "1/1 [==============================] - 0s 13ms/step - loss: 2.4097 - accuracy: 0.1429\n",
            "Epoch 49/100\n",
            "1/1 [==============================] - 0s 13ms/step - loss: 2.3963 - accuracy: 0.1429\n",
            "Epoch 50/100\n",
            "1/1 [==============================] - 0s 13ms/step - loss: 2.3825 - accuracy: 0.1429\n",
            "Epoch 51/100\n",
            "1/1 [==============================] - 0s 13ms/step - loss: 2.3683 - accuracy: 0.1429\n",
            "Epoch 52/100\n",
            "1/1 [==============================] - 0s 20ms/step - loss: 2.3536 - accuracy: 0.1429\n",
            "Epoch 53/100\n",
            "1/1 [==============================] - 0s 20ms/step - loss: 2.3377 - accuracy: 0.1429\n",
            "Epoch 54/100\n",
            "1/1 [==============================] - 0s 15ms/step - loss: 2.3203 - accuracy: 0.2143\n",
            "Epoch 55/100\n",
            "1/1 [==============================] - 0s 15ms/step - loss: 2.3011 - accuracy: 0.2143\n",
            "Epoch 56/100\n",
            "1/1 [==============================] - 0s 13ms/step - loss: 2.2803 - accuracy: 0.2143\n",
            "Epoch 57/100\n",
            "1/1 [==============================] - 0s 12ms/step - loss: 2.2581 - accuracy: 0.2143\n",
            "Epoch 58/100\n",
            "1/1 [==============================] - 0s 13ms/step - loss: 2.2347 - accuracy: 0.2143\n",
            "Epoch 59/100\n",
            "1/1 [==============================] - 0s 12ms/step - loss: 2.2100 - accuracy: 0.3571\n",
            "Epoch 60/100\n",
            "1/1 [==============================] - 0s 12ms/step - loss: 2.1836 - accuracy: 0.3571\n",
            "Epoch 61/100\n",
            "1/1 [==============================] - 0s 13ms/step - loss: 2.1553 - accuracy: 0.4286\n",
            "Epoch 62/100\n",
            "1/1 [==============================] - 0s 13ms/step - loss: 2.1250 - accuracy: 0.4286\n",
            "Epoch 63/100\n",
            "1/1 [==============================] - 0s 13ms/step - loss: 2.0930 - accuracy: 0.4286\n",
            "Epoch 64/100\n",
            "1/1 [==============================] - 0s 12ms/step - loss: 2.0596 - accuracy: 0.4286\n",
            "Epoch 65/100\n",
            "1/1 [==============================] - 0s 14ms/step - loss: 2.0243 - accuracy: 0.4286\n",
            "Epoch 66/100\n",
            "1/1 [==============================] - 0s 14ms/step - loss: 1.9872 - accuracy: 0.4286\n",
            "Epoch 67/100\n",
            "1/1 [==============================] - 0s 16ms/step - loss: 1.9486 - accuracy: 0.4286\n",
            "Epoch 68/100\n",
            "1/1 [==============================] - 0s 13ms/step - loss: 1.9092 - accuracy: 0.4286\n",
            "Epoch 69/100\n",
            "1/1 [==============================] - 0s 16ms/step - loss: 1.8690 - accuracy: 0.4286\n",
            "Epoch 70/100\n",
            "1/1 [==============================] - 0s 14ms/step - loss: 1.8281 - accuracy: 0.5000\n",
            "Epoch 71/100\n",
            "1/1 [==============================] - 0s 13ms/step - loss: 1.7870 - accuracy: 0.5714\n",
            "Epoch 72/100\n",
            "1/1 [==============================] - 0s 13ms/step - loss: 1.7463 - accuracy: 0.5000\n",
            "Epoch 73/100\n",
            "1/1 [==============================] - 0s 15ms/step - loss: 1.7056 - accuracy: 0.5000\n",
            "Epoch 74/100\n",
            "1/1 [==============================] - 0s 14ms/step - loss: 1.6653 - accuracy: 0.4286\n",
            "Epoch 75/100\n",
            "1/1 [==============================] - 0s 14ms/step - loss: 1.6258 - accuracy: 0.4286\n",
            "Epoch 76/100\n",
            "1/1 [==============================] - 0s 14ms/step - loss: 1.5867 - accuracy: 0.5000\n",
            "Epoch 77/100\n",
            "1/1 [==============================] - 0s 13ms/step - loss: 1.5485 - accuracy: 0.5000\n",
            "Epoch 78/100\n",
            "1/1 [==============================] - 0s 12ms/step - loss: 1.5111 - accuracy: 0.5714\n",
            "Epoch 79/100\n",
            "1/1 [==============================] - 0s 13ms/step - loss: 1.4744 - accuracy: 0.6429\n",
            "Epoch 80/100\n",
            "1/1 [==============================] - 0s 13ms/step - loss: 1.4387 - accuracy: 0.6429\n",
            "Epoch 81/100\n",
            "1/1 [==============================] - 0s 13ms/step - loss: 1.4036 - accuracy: 0.6429\n",
            "Epoch 82/100\n",
            "1/1 [==============================] - 0s 14ms/step - loss: 1.3695 - accuracy: 0.6429\n",
            "Epoch 83/100\n",
            "1/1 [==============================] - 0s 13ms/step - loss: 1.3361 - accuracy: 0.6429\n",
            "Epoch 84/100\n",
            "1/1 [==============================] - 0s 15ms/step - loss: 1.3035 - accuracy: 0.6429\n",
            "Epoch 85/100\n",
            "1/1 [==============================] - 0s 15ms/step - loss: 1.2716 - accuracy: 0.6429\n",
            "Epoch 86/100\n",
            "1/1 [==============================] - 0s 13ms/step - loss: 1.2403 - accuracy: 0.6429\n",
            "Epoch 87/100\n",
            "1/1 [==============================] - 0s 12ms/step - loss: 1.2095 - accuracy: 0.6429\n",
            "Epoch 88/100\n",
            "1/1 [==============================] - 0s 15ms/step - loss: 1.1793 - accuracy: 0.6429\n",
            "Epoch 89/100\n",
            "1/1 [==============================] - 0s 13ms/step - loss: 1.1497 - accuracy: 0.7143\n",
            "Epoch 90/100\n",
            "1/1 [==============================] - 0s 14ms/step - loss: 1.1210 - accuracy: 0.7143\n",
            "Epoch 91/100\n",
            "1/1 [==============================] - 0s 14ms/step - loss: 1.0932 - accuracy: 0.7143\n",
            "Epoch 92/100\n",
            "1/1 [==============================] - 0s 14ms/step - loss: 1.0666 - accuracy: 0.7143\n",
            "Epoch 93/100\n",
            "1/1 [==============================] - 0s 13ms/step - loss: 1.0411 - accuracy: 0.7143\n",
            "Epoch 94/100\n",
            "1/1 [==============================] - 0s 13ms/step - loss: 1.0166 - accuracy: 0.7143\n",
            "Epoch 95/100\n",
            "1/1 [==============================] - 0s 14ms/step - loss: 0.9931 - accuracy: 0.7143\n",
            "Epoch 96/100\n",
            "1/1 [==============================] - 0s 14ms/step - loss: 0.9707 - accuracy: 0.7143\n",
            "Epoch 97/100\n",
            "1/1 [==============================] - 0s 13ms/step - loss: 0.9495 - accuracy: 0.7143\n",
            "Epoch 98/100\n",
            "1/1 [==============================] - 0s 15ms/step - loss: 0.9298 - accuracy: 0.7143\n",
            "Epoch 99/100\n",
            "1/1 [==============================] - 0s 14ms/step - loss: 0.9117 - accuracy: 0.6429\n",
            "Epoch 100/100\n",
            "1/1 [==============================] - 0s 12ms/step - loss: 0.8951 - accuracy: 0.7143\n"
          ]
        },
        {
          "output_type": "execute_result",
          "data": {
            "text/plain": [
              "<keras.src.callbacks.History at 0x79a08f66d960>"
            ]
          },
          "metadata": {},
          "execution_count": 68
        }
      ]
    },
    {
      "cell_type": "code",
      "source": [
        "def generate_text(seed_text, next_words, model, max_sequence_len):\n",
        "    for _ in range(next_words):\n",
        "        token_list = tokenizer.texts_to_sequences([seed_text])[0]\n",
        "        token_list = pad_sequences([token_list], maxlen=max_sequence_len-1, padding='pre')\n",
        "        predicted_probs = model.predict(token_list, verbose=0)[0]\n",
        "        predicted_index = np.argmax(predicted_probs)\n",
        "        output_word = \"\"\n",
        "        for word, index in tokenizer.word_index.items():\n",
        "            if index == predicted_index:\n",
        "                output_word = word\n",
        "                break\n",
        "        seed_text += \" \" + output_word\n",
        "    return seed_text\n",
        "\n",
        "generated_text = generate_text(\"The\", 10, model, max_sequence_len)\n",
        "print(generated_text)\n"
      ],
      "metadata": {
        "colab": {
          "base_uri": "https://localhost:8080/"
        },
        "id": "AWEMLZoFducv",
        "outputId": "d17abc3e-321f-4e15-bf33-584046175d46"
      },
      "execution_count": 69,
      "outputs": [
        {
          "output_type": "stream",
          "name": "stdout",
          "text": [
            "The the the the mat mat mat dark dark sunny sunny\n"
          ]
        }
      ]
    },
    {
      "cell_type": "code",
      "source": [],
      "metadata": {
        "id": "7OqJYZ4Ad17y"
      },
      "execution_count": null,
      "outputs": []
    }
  ]
}